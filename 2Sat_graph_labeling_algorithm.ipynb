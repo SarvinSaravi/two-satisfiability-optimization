{
  "nbformat": 4,
  "nbformat_minor": 0,
  "metadata": {
    "colab": {
      "provenance": [],
      "toc_visible": true,
      "authorship_tag": "ABX9TyPTiYPTCPqFu0/B7Ixy+ivb",
      "include_colab_link": true
    },
    "kernelspec": {
      "name": "python3",
      "display_name": "Python 3"
    },
    "language_info": {
      "name": "python"
    }
  },
  "cells": [
    {
      "cell_type": "markdown",
      "metadata": {
        "id": "view-in-github",
        "colab_type": "text"
      },
      "source": [
        "<a href=\"https://colab.research.google.com/github/SarvinSaravi/two-satisfiability-optimization/blob/main/2Sat_graph_labeling_algorithm.ipynb\" target=\"_parent\"><img src=\"https://colab.research.google.com/assets/colab-badge.svg\" alt=\"Open In Colab\"/></a>"
      ]
    },
    {
      "cell_type": "markdown",
      "source": [
        "# Preparation"
      ],
      "metadata": {
        "id": "paaFGRXEygg2"
      }
    },
    {
      "cell_type": "code",
      "source": [
        "import networkx as nx\n",
        "import matplotlib.pyplot as plt\n",
        "import json"
      ],
      "metadata": {
        "id": "2XUDRmXB4j7y"
      },
      "execution_count": null,
      "outputs": []
    },
    {
      "cell_type": "markdown",
      "source": [
        "# Check satisfaction"
      ],
      "metadata": {
        "id": "teHYKPurMFFu"
      }
    },
    {
      "cell_type": "code",
      "source": [
        "def satisfies(truth_assignment):\n",
        "\n",
        "    if True in truth_assignment:\n",
        "        return True\n",
        "\n",
        "    return False"
      ],
      "metadata": {
        "id": "Pe5_oj9HMD8y"
      },
      "execution_count": null,
      "outputs": []
    },
    {
      "cell_type": "markdown",
      "source": [
        "# The function of *SolveWithAssumptions*\n",
        "Algorithm 2"
      ],
      "metadata": {
        "id": "6cDlTyu8x1K7"
      }
    },
    {
      "cell_type": "code",
      "source": [
        "def solve_with_assumptions(G, A, T):\n",
        "\n",
        "    Q = []\n",
        "    C = []\n",
        "\n",
        "    for v in A:\n",
        "        Q.append(v)\n",
        "        C.append(v)\n",
        "\n",
        "    while Q:\n",
        "        v = Q.pop(0)\n",
        "        if not satisfies([T[v]]):\n",
        "            for w in list(G.neighbors(v)):\n",
        "                if (-w) in C:\n",
        "                    return False\n",
        "                elif not (w in C):\n",
        "                    Q.append(w)\n",
        "                    C.append(w)\n",
        "\n",
        "    for v in C:\n",
        "        T[v] = True\n",
        "        T[-v] = False\n",
        "\n",
        "    return True"
      ],
      "metadata": {
        "id": "qAZDZUbcwnc8"
      },
      "execution_count": null,
      "outputs": []
    },
    {
      "cell_type": "markdown",
      "source": [
        "# The function of *CheckSolvable*\n",
        "Algorithm 1"
      ],
      "metadata": {
        "id": "HBZ0LAikyDP5"
      }
    },
    {
      "cell_type": "code",
      "execution_count": null,
      "metadata": {
        "id": "iBwFUYtczKm7"
      },
      "outputs": [],
      "source": [
        "def check_solvable(G, C, T):\n",
        "    satisfiable = False\n",
        "\n",
        "    vi, vj = C\n",
        "\n",
        "    if satisfies([T[vi], T[vj]]):\n",
        "        satisfiable = True\n",
        "    else:\n",
        "        if vi == vj:\n",
        "            if solve_with_assumptions(G, {vi}, T):\n",
        "                satisfiable = True\n",
        "        else:\n",
        "            # vi != vj\n",
        "            if solve_with_assumptions(G, {vi, vj}, T):\n",
        "                satisfiable = True\n",
        "            elif solve_with_assumptions(G, {-vi, vj}, T):\n",
        "                satisfiable = True\n",
        "            elif solve_with_assumptions(G, {vi, -vj}, T):\n",
        "                satisfiable = True\n",
        "\n",
        "    if satisfiable:\n",
        "        edges = [(-vi, vj), (-vj, vi)]\n",
        "        G.add_edges_from(edges)\n",
        "\n",
        "    return satisfiable"
      ]
    },
    {
      "cell_type": "markdown",
      "source": [
        "# Implication Graph"
      ],
      "metadata": {
        "id": "ttQegkLm7DUx"
      }
    },
    {
      "cell_type": "code",
      "source": [
        "def construct_implication_graph(clauses):\n",
        "    G = nx.DiGraph()\n",
        "    for (u, v) in clauses:\n",
        "        G.add_edge(-u, v)\n",
        "        G.add_edge(-v, u)\n",
        "    return G\n",
        "\n",
        "# Example usage in dictionary\n",
        "# clauses = [(1, -2), (-1, 3), (2, -3)]\n",
        "# G = construct_implication_graph(clauses)\n",
        "# G = nx.to_dict_of_dicts(G)\n",
        "# print(json.dumps(G, sort_keys=True, indent=4))\n",
        "\n",
        "# Example usage in plot\n",
        "# pos = nx.spring_layout(G)\n",
        "# nx.draw(G, pos, with_labels=True, node_size=700, node_color='lightblue', arrowsize=20)\n",
        "# plt.show()\n"
      ],
      "metadata": {
        "id": "gM9Iy2mNZj2A",
        "collapsed": true
      },
      "execution_count": null,
      "outputs": []
    },
    {
      "cell_type": "markdown",
      "source": [
        "# Final *executive* block"
      ],
      "metadata": {
        "id": "euKl9eM2FH6N"
      }
    },
    {
      "cell_type": "code",
      "source": [
        "clauses = [(1, -2), (-1, 3), (2, -3)]\n",
        "T_set = [True, True, True]\n",
        "\n",
        "T_dict = {i + 1: T_set[i] for i in range(len(T_set))}\n",
        "T_dict.update({-(i + 1): not T_set[i] for i in range(len(T_set))})\n",
        "I_graph = construct_implication_graph(clauses)\n",
        "\n",
        "sat = []\n",
        "\n",
        "for clause in clauses:\n",
        "     sat = check_solvable(I_graph, clause, T_dict)\n",
        "\n",
        "# show the implication graph in dictionary form\n",
        "# G = nx.to_dict_of_dicts(I_graph)\n",
        "# print(json.dumps(G, sort_keys=True, indent=4))\n",
        "\n",
        "pos = nx.spring_layout(I_graph)\n",
        "nx.draw(I_graph, pos, with_labels=True, node_size=700, node_color='lightblue', arrowsize=20)\n",
        "plt.show()\n",
        "\n",
        "if sat:\n",
        "    print(\"Satisfiable:\", T_dict)\n",
        "else:\n",
        "    print(\"Unsatisfiable\")\n",
        "\n"
      ],
      "metadata": {
        "colab": {
          "base_uri": "https://localhost:8080/",
          "height": 533
        },
        "id": "ys6BkNMiFLvP",
        "outputId": "50304462-bbe3-4d95-9706-131269478885"
      },
      "execution_count": null,
      "outputs": [
        {
          "output_type": "display_data",
          "data": {
            "text/plain": [
              "<Figure size 640x480 with 1 Axes>"
            ],
            "image/png": "[encoded data removed]"
          },
          "metadata": {}
        },
        {
          "output_type": "stream",
          "name": "stdout",
          "text": [
            "Satisfiable: {1: True, 2: True, 3: True, -1: False, -2: False, -3: False}\n"
          ]
        }
      ]
    }
  ]
}